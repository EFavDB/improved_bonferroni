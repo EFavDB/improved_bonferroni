{
 "cells": [
  {
   "cell_type": "markdown",
   "metadata": {},
   "source": [
    "# Improved Bonferroni \n",
    "\n",
    "Some simple functions to manually find the individual confidence intervals needed to obtain a given family wise error rate in a posthoc analysis with treatments groups all the same size.  I consider Normal and Cauchy case.  See corresponding post at link below.\n",
    "\n",
    "Jonathan Landy\n",
    "\n",
    "http://efavdb.com/bonferroni-correction-for-multiple-pairwise-comparison-tests/"
   ]
  },
  {
   "cell_type": "markdown",
   "metadata": {},
   "source": [
    "## Load packages"
   ]
  },
  {
   "cell_type": "code",
   "execution_count": 1,
   "metadata": {},
   "outputs": [],
   "source": [
    "from scipy.special import erf\n",
    "from scipy.integrate import quad\n",
    "from scipy.misc import comb\n",
    "import numpy as np\n",
    "import math"
   ]
  },
  {
   "cell_type": "markdown",
   "metadata": {},
   "source": [
    "## Normal statistics"
   ]
  },
  {
   "cell_type": "code",
   "execution_count": 44,
   "metadata": {},
   "outputs": [
    {
     "name": "stdout",
     "output_type": "stream",
     "text": [
      "Bonferroni target p for individual tests is 0.9833\n",
      "With k set to present value, individual test p values are 0.9833\n",
      "p_fam actual: 0.9560\n"
     ]
    },
    {
     "name": "stderr",
     "output_type": "stream",
     "text": [
      "/Users/jonathanlandy/my-venv/lib/python2.7/site-packages/ipykernel_launcher.py:11: RuntimeWarning: divide by zero encountered in log\n",
      "  # This is added back by InteractiveShellApp.init_path()\n"
     ]
    }
   ],
   "source": [
    "# Step 1 -- find the k value that corresponds to the Bonferroni approximation\n",
    "# Notice that the resulting p_fam is too large; Bonferroni is conservative.\n",
    "N = 3\n",
    "k = 2.394\n",
    "p_fam_target = 0.95\n",
    "\n",
    "# Define the individual pair and family wise integrands.\n",
    "f_ind = lambda x: np.exp(-x**2 / 4) / np.sqrt(4 * math.pi)\n",
    "f_fam = lambda x: ( N * np.exp(-x**2 / 2) / np.sqrt(2 * math.pi)\n",
    "               *np.exp((N-1) * \n",
    "                        np.log( (erf(k + x / np.sqrt(2.0)) - erf(x / np.sqrt(2.0))) / 2.0) )) \n",
    "\n",
    "\n",
    "\n",
    "print 'Bonferroni target p for individual tests is %2.4f' %(1 -  (1 - p_fam_target) / comb(N,2))\n",
    "print 'With k set to present value, individual test p values are %2.4f' %(quad(f_ind, -k*np.sqrt(2), k* np.sqrt(2))[0])\n",
    "result = quad(f_fam, -np.inf, np.inf)\n",
    "print 'p_fam actual: %2.4f'%(result[0])"
   ]
  },
  {
   "cell_type": "code",
   "execution_count": 52,
   "metadata": {},
   "outputs": [
    {
     "name": "stdout",
     "output_type": "stream",
     "text": [
      "p_individual = 0.9809\n",
      "p_fam actual: 0.9500\n"
     ]
    },
    {
     "name": "stderr",
     "output_type": "stream",
     "text": [
      "/Users/jonathanlandy/my-venv/lib/python2.7/site-packages/ipykernel_launcher.py:11: RuntimeWarning: divide by zero encountered in log\n",
      "  # This is added back by InteractiveShellApp.init_path()\n"
     ]
    }
   ],
   "source": [
    "# Step 2 -- find the k value that gives the desired family-wise error rate\n",
    "#     Notice that the individual pair tests are less stringent than Bonferroni.\n",
    "\n",
    "k = 2.344\n",
    " \n",
    "\n",
    "result = quad(f_fam, -np.inf, np.inf)\n",
    "print 'p_individual = %2.4f' %(quad(f_ind, -k * np.sqrt(2), k * np.sqrt(2))[0])\n",
    "print 'p_fam actual: %2.4f'%(result[0])\n"
   ]
  },
  {
   "cell_type": "code",
   "execution_count": 55,
   "metadata": {},
   "outputs": [
    {
     "data": {
      "text/plain": [
       "0.049948"
      ]
     },
     "execution_count": 55,
     "metadata": {},
     "output_type": "execute_result"
    }
   ],
   "source": [
    "# Check accuracy of the normal case\n",
    "\n",
    "mu, sigma = 0, 1.0 # mean and standard deviation\n",
    "count = 0\n",
    "tot = 10**7\n",
    "for i in range(tot):\n",
    "    s = np.random.normal(mu, sigma, N)\n",
    "    if max(s) - min(s) > k * np.sqrt(2):\n",
    "        count +=1\n",
    "        \n",
    "count / float(tot)"
   ]
  },
  {
   "cell_type": "markdown",
   "metadata": {},
   "source": [
    "## Cauchy statistics"
   ]
  },
  {
   "cell_type": "code",
   "execution_count": 258,
   "metadata": {},
   "outputs": [
    {
     "name": "stdout",
     "output_type": "stream",
     "text": [
      "(0.8999212963100884, 4.20742359111235e-09)\n",
      "0.8999\n"
     ]
    }
   ],
   "source": [
    "# Cauchy exact\n",
    "\n",
    "N = 16\n",
    "k = 110\n",
    "\n",
    "# Exact probability of no type 1 error\n",
    "f = lambda x: ((N / math.pi) / (1 + x **2) \n",
    "               *np.exp((N-1) * \n",
    "                        np.log( (math.atan(k + x) - math.atan(x)) / math.pi) ))\n",
    " \n",
    "result = quad(f, -np.inf, np.inf)\n",
    "print result\n",
    "print '%2.4f'%(result[0])\n"
   ]
  },
  {
   "cell_type": "code",
   "execution_count": 259,
   "metadata": {},
   "outputs": [
    {
     "name": "stdout",
     "output_type": "stream",
     "text": [
      "p_desired for individual tests is 0.9992\n",
      "current individual p is 0.9873\n",
      "p_f Bon: 0.8896\n"
     ]
    }
   ],
   "source": [
    "# Cauchy Bonferroni\n",
    "\n",
    "N = 16\n",
    "k = 100\n",
    "\n",
    "p_f = 0.90\n",
    "f_ind = lambda x: (2 / math.pi) * (1.0 / (2 ** 2 + x ** 2))\n",
    "\n",
    "print 'p_desired for individual tests is %2.4f' %(1 -  (1 - p_f) / comb(N,2))\n",
    "print 'current individual p is %2.4f' %(quad(f_ind, -k, k)[0])\n",
    "\n",
    "result = quad(f, -np.inf, np.inf)\n",
    "print 'p_f Bon: %2.4f'%(result[0])\n"
   ]
  },
  {
   "cell_type": "code",
   "execution_count": 271,
   "metadata": {},
   "outputs": [
    {
     "data": {
      "text/plain": [
       "0.100889"
      ]
     },
     "execution_count": 271,
     "metadata": {},
     "output_type": "execute_result"
    }
   ],
   "source": [
    "# Check results for Cauchy\n",
    "\n",
    "k = 27\n",
    "N = 4\n",
    "count = 0\n",
    "tot = 10**6\n",
    "for i in range(tot):\n",
    "    s = np.random.standard_cauchy(N)\n",
    "    if max(s) - min(s) > k:\n",
    "        count +=1\n",
    "        \n",
    "count / float(tot)\n"
   ]
  },
  {
   "cell_type": "code",
   "execution_count": null,
   "metadata": {},
   "outputs": [],
   "source": []
  }
 ],
 "metadata": {
  "kernelspec": {
   "display_name": "Python 2",
   "language": "python",
   "name": "python2"
  },
  "language_info": {
   "codemirror_mode": {
    "name": "ipython",
    "version": 2
   },
   "file_extension": ".py",
   "mimetype": "text/x-python",
   "name": "python",
   "nbconvert_exporter": "python",
   "pygments_lexer": "ipython2",
   "version": "2.7.10"
  }
 },
 "nbformat": 4,
 "nbformat_minor": 1
}
